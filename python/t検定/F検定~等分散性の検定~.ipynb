{
 "cells": [
  {
   "cell_type": "markdown",
   "metadata": {},
   "source": [
    "# t検定 step2 等分散性の確認\n",
    "F検定により、データの分散が等しいかを検定。それにより、t検定の手法が異なります。"
   ]
  },
  {
   "cell_type": "markdown",
   "metadata": {},
   "source": [
    "帰無仮説 : 2つのグループの分散は等しい\n",
    "\n",
    "対立仮説 : 2つのグループの分散は異なる"
   ]
  },
  {
   "cell_type": "code",
   "execution_count": 2,
   "metadata": {
    "collapsed": true
   },
   "outputs": [],
   "source": [
    "import numpy as np\n",
    "from numpy.random import *\n",
    "import scipy.stats as stats\n",
    "import matplotlib.pyplot as plt\n",
    "import statistics as stat\n",
    "import scipy"
   ]
  },
  {
   "cell_type": "code",
   "execution_count": 2,
   "metadata": {
    "collapsed": true
   },
   "outputs": [],
   "source": [
    "#テストデータを作成\n",
    "#シャピロウィルクの検定で使用したものと同じにする\n",
    "\n",
    "#標準正規分布に従う乱数を1000個生成する\n",
    "normal = randn(1000) \n",
    "\n",
    "#比較用の乱数を1000個生成する\n",
    "comparison = rand(1000)"
   ]
  },
  {
   "cell_type": "code",
   "execution_count": 3,
   "metadata": {},
   "outputs": [
    {
     "name": "stdout",
     "output_type": "stream",
     "text": [
      "1.0705822439880657\n",
      "0.08038818711585637\n"
     ]
    }
   ],
   "source": [
    "# 標本分散\n",
    "print(stat.variance(normal))\n",
    "print(stat.variance(comparison))"
   ]
  },
  {
   "cell_type": "code",
   "execution_count": 4,
   "metadata": {},
   "outputs": [
    {
     "data": {
      "text/plain": [
       "numpy.ndarray"
      ]
     },
     "execution_count": 4,
     "metadata": {},
     "output_type": "execute_result"
    }
   ],
   "source": [
    "type(normal)"
   ]
  },
  {
   "cell_type": "markdown",
   "metadata": {},
   "source": [
    "### F検定の実施"
   ]
  },
  {
   "cell_type": "code",
   "execution_count": 16,
   "metadata": {},
   "outputs": [
    {
     "data": {
      "text/plain": [
       "BartlettResult(statistic=1330.8200635967078, pvalue=2.2680344833747013e-291)"
      ]
     },
     "execution_count": 16,
     "metadata": {},
     "output_type": "execute_result"
    }
   ],
   "source": [
    "# 等分散性の検定を行う。\n",
    "scipy.stats.bartlett(normal,comparison)\n",
    "\n",
    "#p値が0.05未満の場合は棄却。今回は0.05未満なので、帰無仮説を棄却し等分散であるとは言えない"
   ]
  },
  {
   "cell_type": "code",
   "execution_count": null,
   "metadata": {
    "collapsed": true
   },
   "outputs": [],
   "source": []
  },
  {
   "cell_type": "code",
   "execution_count": null,
   "metadata": {
    "collapsed": true
   },
   "outputs": [],
   "source": []
  },
  {
   "cell_type": "code",
   "execution_count": 7,
   "metadata": {},
   "outputs": [
    {
     "data": {
      "text/plain": [
       "BartlettResult(statistic=11.515649730042803, pvalue=0.0006901270559212512)"
      ]
     },
     "execution_count": 7,
     "metadata": {},
     "output_type": "execute_result"
    }
   ],
   "source": [
    "#group aを10/1サンプリングしたので、検定時にも同様に減らす\n",
    "\n",
    "group_a = [100,200,300,400,500]\n",
    "group_b = [10,20,30,40,50]\n",
    "\n",
    "#group_a = list(map(lambda x : x / 10, group_a_tmp))\n",
    "\n",
    "scipy.stats.bartlett(group_a,group_b)"
   ]
  },
  {
   "cell_type": "code",
   "execution_count": 8,
   "metadata": {},
   "outputs": [
    {
     "data": {
      "text/plain": [
       "0.9997078523654738"
      ]
     },
     "execution_count": 8,
     "metadata": {},
     "output_type": "execute_result"
    }
   ],
   "source": [
    "#F値\n",
    "f = np.var(group_a) / np.var(group_b)\n",
    "\n",
    "#自由度\n",
    "dfx = len(group_a) -1\n",
    "dfy = len(group_b) -1\n",
    "\n",
    "stats.f.cdf(f, dfx, dfy)"
   ]
  },
  {
   "cell_type": "code",
   "execution_count": 5,
   "metadata": {},
   "outputs": [
    {
     "name": "stdout",
     "output_type": "stream",
     "text": [
      "20000.0\n",
      "200.0\n"
     ]
    }
   ],
   "source": [
    "print( np.var(group_a))\n",
    "print( np.var(group_b))"
   ]
  },
  {
   "cell_type": "code",
   "execution_count": null,
   "metadata": {
    "collapsed": true
   },
   "outputs": [],
   "source": []
  },
  {
   "cell_type": "code",
   "execution_count": 11,
   "metadata": {},
   "outputs": [
    {
     "name": "stdout",
     "output_type": "stream",
     "text": [
      "25000\n",
      "250\n"
     ]
    }
   ],
   "source": [
    "# 標本分散\n",
    "print(stat.variance(group_a))\n",
    "print(stat.variance(group_b))"
   ]
  },
  {
   "cell_type": "code",
   "execution_count": 20,
   "metadata": {},
   "outputs": [
    {
     "data": {
      "text/plain": [
       "[10.0, 20.0, 30.0, 40.0, 50.0]"
      ]
     },
     "execution_count": 20,
     "metadata": {},
     "output_type": "execute_result"
    }
   ],
   "source": [
    "group_a"
   ]
  },
  {
   "cell_type": "code",
   "execution_count": null,
   "metadata": {
    "collapsed": true
   },
   "outputs": [],
   "source": []
  }
 ],
 "metadata": {
  "kernelspec": {
   "display_name": "Python 3",
   "language": "python",
   "name": "python3"
  },
  "language_info": {
   "codemirror_mode": {
    "name": "ipython",
    "version": 3
   },
   "file_extension": ".py",
   "mimetype": "text/x-python",
   "name": "python",
   "nbconvert_exporter": "python",
   "pygments_lexer": "ipython3",
   "version": "3.6.3"
  }
 },
 "nbformat": 4,
 "nbformat_minor": 2
}
