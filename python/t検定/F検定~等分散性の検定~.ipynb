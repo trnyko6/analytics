{
 "cells": [
  {
   "cell_type": "markdown",
   "metadata": {},
   "source": [
    "# t検定 step2 等分散性の確認\n",
    "F検定により、データの分散が等しいかを検定。それにより、t検定の手法が異なります。"
   ]
  },
  {
   "cell_type": "markdown",
   "metadata": {},
   "source": [
    "帰無仮説 : 2つのグループの分散は等しい\n",
    "\n",
    "対立仮説 : 2つのグループの分散は異なる"
   ]
  },
  {
   "cell_type": "code",
   "execution_count": 2,
   "metadata": {
    "collapsed": true
   },
   "outputs": [],
   "source": [
    "import numpy as np\n",
    "from numpy.random import *\n",
    "import scipy.stats as stats\n",
    "import matplotlib.pyplot as plt\n",
    "import statistics as stat\n",
    "import scipy"
   ]
  },
  {
   "cell_type": "code",
   "execution_count": 2,
   "metadata": {
    "collapsed": true
   },
   "outputs": [],
   "source": [
    "#テストデータを作成\n",
    "#シャピロウィルクの検定で使用したものと同じにする\n",
    "\n",
    "#標準正規分布に従う乱数を1000個生成する\n",
    "normal = randn(1000) \n",
    "\n",
    "#比較用の乱数を1000個生成する\n",
    "comparison = rand(1000)"
   ]
  },
  {
   "cell_type": "code",
   "execution_count": 3,
   "metadata": {},
   "outputs": [
    {
     "name": "stdout",
     "output_type": "stream",
     "text": [
      "1.0705822439880657\n",
      "0.08038818711585637\n"
     ]
    }
   ],
   "source": [
    "# 標本分散\n",
    "print(stat.variance(normal))\n",
    "print(stat.variance(comparison))"
   ]
  },
  {
   "cell_type": "code",
   "execution_count": 4,
   "metadata": {},
   "outputs": [
    {
     "data": {
      "text/plain": [
       "numpy.ndarray"
      ]
     },
     "execution_count": 4,
     "metadata": {},
     "output_type": "execute_result"
    }
   ],
   "source": [
    "type(normal)"
   ]
  },
  {
   "cell_type": "markdown",
   "metadata": {},
   "source": [
    "### F検定の実施"
   ]
  },
  {
   "cell_type": "code",
   "execution_count": 16,
   "metadata": {},
   "outputs": [
    {
     "data": {
      "text/plain": [
       "BartlettResult(statistic=1330.8200635967078, pvalue=2.2680344833747013e-291)"
      ]
     },
     "execution_count": 16,
     "metadata": {},
     "output_type": "execute_result"
    }
   ],
   "source": [
    "# 等分散性の検定を行う。\n",
    "scipy.stats.f.cdf(f, dfa, dfb)\n",
    "\n",
    "#p値が0.05未満の場合は棄却。今回は0.05未満なので、帰無仮説を棄却し等分散であるとは言えない"
   ]
  },
  {
   "cell_type": "markdown",
   "metadata": {},
   "source": [
    "### こんな関数で調べてます"
   ]
  },
  {
   "cell_type": "code",
   "execution_count": null,
   "metadata": {},
   "outputs": [],
   "source": [
    "def f_test(group_a:list, group_b:list, los=0.05):\n",
    "  \"\"\"\n",
    "  F検定(分散比検定)を行う\n",
    "  帰無仮説:分散は等しい\n",
    "  対立仮説:分散は等しくない\n",
    "  \"\"\"\n",
    "\n",
    "  #F値\n",
    "  var_a = np.var(group_a)\n",
    "  var_b = np.var(group_b)\n",
    "  \n",
    "  #自由度\n",
    "  dfa = len(group_a) -1\n",
    "  dfb = len(group_b) -1\n",
    "  \n",
    "  if var_a >= var_b:\n",
    "    f =  var_a / var_b\n",
    "  else:\n",
    "    f =  var_b / var_a\n",
    "  \n",
    "  #p値の計算\n",
    "  pvalue = scipy.stats.f.cdf(f, dfa, dfb)\n",
    "  \n",
    "  if pvalue >= los:\n",
    "    judge = True\n",
    "  else:\n",
    "    judge = False\n",
    "    \n",
    "  return pvalue, judge"
   ]
  }
 ],
 "metadata": {
  "kernelspec": {
   "display_name": "Python 3",
   "language": "python",
   "name": "python3"
  },
  "language_info": {
   "codemirror_mode": {
    "name": "ipython",
    "version": 3
   },
   "file_extension": ".py",
   "mimetype": "text/x-python",
   "name": "python",
   "nbconvert_exporter": "python",
   "pygments_lexer": "ipython3",
   "version": "3.7.2"
  }
 },
 "nbformat": 4,
 "nbformat_minor": 2
}
